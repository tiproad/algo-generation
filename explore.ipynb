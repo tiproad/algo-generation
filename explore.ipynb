{
 "cells": [
  {
   "cell_type": "code",
   "execution_count": 5,
   "id": "ae6ec0c5",
   "metadata": {},
   "outputs": [],
   "source": [
    "from pathlib import Path\n",
    "import re\n",
    "import joblib\n",
    "import gmaps\n",
    "import googlemaps\n",
    "from dotenv import load_dotenv\n",
    "import googlemaps\n",
    "import ast\n",
    "from functions import con_gps, calc_idx"
   ]
  },
  {
   "cell_type": "code",
   "execution_count": 7,
   "id": "34371047",
   "metadata": {},
   "outputs": [],
   "source": [
    "load_dotenv()\n",
    "toronto_coord = (43.651070,-79.347015)\n",
    "gmaps.configure(api_key=os.environ[\"GOOGLE_API_KEY\"])\n",
    "maps = googlemaps.Client(key=os.environ['GOOGLE_API_KEY'])\n",
    "l=4"
   ]
  },
  {
   "cell_type": "code",
   "execution_count": 18,
   "id": "dc26027f",
   "metadata": {},
   "outputs": [],
   "source": [
    "orig = \"Medical Sciences Building, 1 King's College Cir, Toronto, ON M5S 1A8\"\n",
    "dest = \"250 College St, Toronto, ON M5T 1R8\""
   ]
  },
  {
   "cell_type": "code",
   "execution_count": 19,
   "id": "873f1be1",
   "metadata": {},
   "outputs": [],
   "source": [
    "lat1, lng1 = con_gps(orig)\n",
    "lat2, lng2 = con_gps(dest)\n",
    "idx, loc = calc_idx(lat1, lng1, lat2, lng2)"
   ]
  },
  {
   "cell_type": "code",
   "execution_count": 20,
   "id": "a07a256c",
   "metadata": {},
   "outputs": [
    {
     "data": {
      "text/plain": [
       "(43.6608871, -79.9202861)"
      ]
     },
     "execution_count": 20,
     "metadata": {},
     "output_type": "execute_result"
    }
   ],
   "source": [
    "lat1, long1"
   ]
  },
  {
   "cell_type": "code",
   "execution_count": 21,
   "id": "7b3fb9bf",
   "metadata": {},
   "outputs": [
    {
     "data": {
      "text/plain": [
       "(43.65926899999999, -79.9257195)"
      ]
     },
     "execution_count": 21,
     "metadata": {},
     "output_type": "execute_result"
    }
   ],
   "source": [
    "lat2, long2"
   ]
  },
  {
   "cell_type": "markdown",
   "id": "67bd49c4",
   "metadata": {},
   "source": [
    "---"
   ]
  },
  {
   "cell_type": "code",
   "execution_count": 26,
   "id": "ae77bf55",
   "metadata": {},
   "outputs": [],
   "source": [
    "df = pd.read_csv('data/assault_lat_long.csv')\n",
    "locs= list(df.to_records(index=False))\n",
    "\n",
    "figs = gmaps.figure(center=toronto_coord,zoom_level=10)\n",
    "\n",
    "heatmap = gmaps.heatmap_layer(locs, point_radius=6, max_intensity=60)\n",
    "directions = gmaps.directions_layer((loc[0,0],loc[0,1]), (lat2, lng2),travel_mode='WALKING', show_markers=False)"
   ]
  },
  {
   "cell_type": "code",
   "execution_count": 27,
   "id": "a995ff93",
   "metadata": {},
   "outputs": [],
   "source": [
    "figs.add_layer(heatmap)"
   ]
  },
  {
   "cell_type": "code",
   "execution_count": 28,
   "id": "70a7f060",
   "metadata": {},
   "outputs": [],
   "source": [
    "figs.add_layer(directions)"
   ]
  },
  {
   "cell_type": "code",
   "execution_count": 29,
   "id": "f138805e",
   "metadata": {
    "scrolled": false
   },
   "outputs": [
    {
     "data": {
      "application/vnd.jupyter.widget-view+json": {
       "model_id": "f669d244ac524afab23f6790819c7ee4",
       "version_major": 2,
       "version_minor": 0
      },
      "text/plain": [
       "Figure(layout=FigureLayout(height='420px'))"
      ]
     },
     "metadata": {},
     "output_type": "display_data"
    }
   ],
   "source": [
    "figs"
   ]
  },
  {
   "cell_type": "markdown",
   "id": "21d1afea",
   "metadata": {},
   "source": [
    "---"
   ]
  },
  {
   "cell_type": "code",
   "execution_count": 483,
   "id": "6bd06a2d",
   "metadata": {},
   "outputs": [
    {
     "name": "stderr",
     "output_type": "stream",
     "text": [
      "/home/aarnphm/.pyenv/versions/3.8.8/lib/python3.8/site-packages/IPython/core/interactiveshell.py:3169: DtypeWarning: Columns (24) have mixed types.Specify dtype option on import or set low_memory=False.\n",
      "  has_raised = await self.run_ast_nodes(code_ast.body, cell_name,\n"
     ]
    },
    {
     "data": {
      "text/html": [
       "<div>\n",
       "<style scoped>\n",
       "    .dataframe tbody tr th:only-of-type {\n",
       "        vertical-align: middle;\n",
       "    }\n",
       "\n",
       "    .dataframe tbody tr th {\n",
       "        vertical-align: top;\n",
       "    }\n",
       "\n",
       "    .dataframe thead th {\n",
       "        text-align: right;\n",
       "    }\n",
       "</style>\n",
       "<table border=\"1\" class=\"dataframe\">\n",
       "  <thead>\n",
       "    <tr style=\"text-align: right;\">\n",
       "      <th></th>\n",
       "      <th>X</th>\n",
       "      <th>Y</th>\n",
       "      <th>Index_</th>\n",
       "      <th>event_unique_id</th>\n",
       "      <th>Division</th>\n",
       "      <th>occurrencedate</th>\n",
       "      <th>reporteddate</th>\n",
       "      <th>premises_type</th>\n",
       "      <th>ucr_code</th>\n",
       "      <th>ucr_ext</th>\n",
       "      <th>offence</th>\n",
       "      <th>reportedyear</th>\n",
       "      <th>reportedmonth</th>\n",
       "      <th>reportedday</th>\n",
       "      <th>reporteddayofyear</th>\n",
       "      <th>reporteddayofweek</th>\n",
       "      <th>reportedhour</th>\n",
       "      <th>occurrenceyear</th>\n",
       "      <th>occurrencemonth</th>\n",
       "      <th>occurrenceday</th>\n",
       "      <th>occurrencedayofyear</th>\n",
       "      <th>occurrencedayofweek</th>\n",
       "      <th>occurrencehour</th>\n",
       "      <th>MCI</th>\n",
       "      <th>Hood_ID</th>\n",
       "      <th>Neighbourhood</th>\n",
       "      <th>Long</th>\n",
       "      <th>Lat</th>\n",
       "      <th>ObjectId</th>\n",
       "    </tr>\n",
       "  </thead>\n",
       "  <tbody>\n",
       "    <tr>\n",
       "      <th>0</th>\n",
       "      <td>-8.862342e+06</td>\n",
       "      <td>5.424014e+06</td>\n",
       "      <td>40118</td>\n",
       "      <td>GO-2015910621</td>\n",
       "      <td>D23</td>\n",
       "      <td>2015/05/31 15:42:00+00</td>\n",
       "      <td>2015/05/31 15:42:00+00</td>\n",
       "      <td>Apartment</td>\n",
       "      <td>1420</td>\n",
       "      <td>100</td>\n",
       "      <td>Assault With Weapon</td>\n",
       "      <td>2015</td>\n",
       "      <td>May</td>\n",
       "      <td>31</td>\n",
       "      <td>151</td>\n",
       "      <td>Sunday</td>\n",
       "      <td>15</td>\n",
       "      <td>2015.0</td>\n",
       "      <td>May</td>\n",
       "      <td>31.0</td>\n",
       "      <td>151.0</td>\n",
       "      <td>Sunday</td>\n",
       "      <td>15</td>\n",
       "      <td>Assault</td>\n",
       "      <td>1</td>\n",
       "      <td>West Humber-Clairville (1)</td>\n",
       "      <td>-79.611774</td>\n",
       "      <td>43.731689</td>\n",
       "      <td>1</td>\n",
       "    </tr>\n",
       "    <tr>\n",
       "      <th>1</th>\n",
       "      <td>-8.861463e+06</td>\n",
       "      <td>5.425856e+06</td>\n",
       "      <td>40344</td>\n",
       "      <td>GO-2015928800</td>\n",
       "      <td>D23</td>\n",
       "      <td>2015/06/03 12:38:00+00</td>\n",
       "      <td>2015/06/03 12:39:00+00</td>\n",
       "      <td>Commercial</td>\n",
       "      <td>1420</td>\n",
       "      <td>100</td>\n",
       "      <td>Assault With Weapon</td>\n",
       "      <td>2015</td>\n",
       "      <td>June</td>\n",
       "      <td>3</td>\n",
       "      <td>154</td>\n",
       "      <td>Wednesday</td>\n",
       "      <td>12</td>\n",
       "      <td>2015.0</td>\n",
       "      <td>June</td>\n",
       "      <td>3.0</td>\n",
       "      <td>154.0</td>\n",
       "      <td>Wednesday</td>\n",
       "      <td>12</td>\n",
       "      <td>Assault</td>\n",
       "      <td>1</td>\n",
       "      <td>West Humber-Clairville (1)</td>\n",
       "      <td>-79.603876</td>\n",
       "      <td>43.743642</td>\n",
       "      <td>2</td>\n",
       "    </tr>\n",
       "    <tr>\n",
       "      <th>2</th>\n",
       "      <td>-8.857188e+06</td>\n",
       "      <td>5.420543e+06</td>\n",
       "      <td>40348</td>\n",
       "      <td>GO-2015929386</td>\n",
       "      <td>D23</td>\n",
       "      <td>2015/05/27 16:00:00+00</td>\n",
       "      <td>2015/06/03 14:11:00+00</td>\n",
       "      <td>Other</td>\n",
       "      <td>1430</td>\n",
       "      <td>100</td>\n",
       "      <td>Assault</td>\n",
       "      <td>2015</td>\n",
       "      <td>June</td>\n",
       "      <td>3</td>\n",
       "      <td>154</td>\n",
       "      <td>Wednesday</td>\n",
       "      <td>14</td>\n",
       "      <td>2015.0</td>\n",
       "      <td>May</td>\n",
       "      <td>27.0</td>\n",
       "      <td>147.0</td>\n",
       "      <td>Wednesday</td>\n",
       "      <td>16</td>\n",
       "      <td>Assault</td>\n",
       "      <td>1</td>\n",
       "      <td>West Humber-Clairville (1)</td>\n",
       "      <td>-79.565476</td>\n",
       "      <td>43.709154</td>\n",
       "      <td>3</td>\n",
       "    </tr>\n",
       "    <tr>\n",
       "      <th>3</th>\n",
       "      <td>-8.861665e+06</td>\n",
       "      <td>5.423589e+06</td>\n",
       "      <td>40371</td>\n",
       "      <td>GO-2015930623</td>\n",
       "      <td>D23</td>\n",
       "      <td>2015/06/03 17:35:00+00</td>\n",
       "      <td>2015/06/03 17:37:00+00</td>\n",
       "      <td>Outside</td>\n",
       "      <td>1410</td>\n",
       "      <td>100</td>\n",
       "      <td>Aggravated Assault</td>\n",
       "      <td>2015</td>\n",
       "      <td>June</td>\n",
       "      <td>3</td>\n",
       "      <td>154</td>\n",
       "      <td>Wednesday</td>\n",
       "      <td>17</td>\n",
       "      <td>2015.0</td>\n",
       "      <td>June</td>\n",
       "      <td>3.0</td>\n",
       "      <td>154.0</td>\n",
       "      <td>Wednesday</td>\n",
       "      <td>17</td>\n",
       "      <td>Assault</td>\n",
       "      <td>1</td>\n",
       "      <td>West Humber-Clairville (1)</td>\n",
       "      <td>-79.605691</td>\n",
       "      <td>43.728929</td>\n",
       "      <td>4</td>\n",
       "    </tr>\n",
       "    <tr>\n",
       "      <th>4</th>\n",
       "      <td>-8.861665e+06</td>\n",
       "      <td>5.423589e+06</td>\n",
       "      <td>40372</td>\n",
       "      <td>GO-2015930623</td>\n",
       "      <td>D23</td>\n",
       "      <td>2015/06/03 17:35:00+00</td>\n",
       "      <td>2015/06/03 17:37:00+00</td>\n",
       "      <td>Outside</td>\n",
       "      <td>1420</td>\n",
       "      <td>100</td>\n",
       "      <td>Assault With Weapon</td>\n",
       "      <td>2015</td>\n",
       "      <td>June</td>\n",
       "      <td>3</td>\n",
       "      <td>154</td>\n",
       "      <td>Wednesday</td>\n",
       "      <td>17</td>\n",
       "      <td>2015.0</td>\n",
       "      <td>June</td>\n",
       "      <td>3.0</td>\n",
       "      <td>154.0</td>\n",
       "      <td>Wednesday</td>\n",
       "      <td>17</td>\n",
       "      <td>Assault</td>\n",
       "      <td>1</td>\n",
       "      <td>West Humber-Clairville (1)</td>\n",
       "      <td>-79.605691</td>\n",
       "      <td>43.728929</td>\n",
       "      <td>5</td>\n",
       "    </tr>\n",
       "  </tbody>\n",
       "</table>\n",
       "</div>"
      ],
      "text/plain": [
       "              X             Y  Index_ event_unique_id Division  \\\n",
       "0 -8.862342e+06  5.424014e+06   40118   GO-2015910621      D23   \n",
       "1 -8.861463e+06  5.425856e+06   40344   GO-2015928800      D23   \n",
       "2 -8.857188e+06  5.420543e+06   40348   GO-2015929386      D23   \n",
       "3 -8.861665e+06  5.423589e+06   40371   GO-2015930623      D23   \n",
       "4 -8.861665e+06  5.423589e+06   40372   GO-2015930623      D23   \n",
       "\n",
       "           occurrencedate            reporteddate premises_type  ucr_code  \\\n",
       "0  2015/05/31 15:42:00+00  2015/05/31 15:42:00+00     Apartment      1420   \n",
       "1  2015/06/03 12:38:00+00  2015/06/03 12:39:00+00    Commercial      1420   \n",
       "2  2015/05/27 16:00:00+00  2015/06/03 14:11:00+00         Other      1430   \n",
       "3  2015/06/03 17:35:00+00  2015/06/03 17:37:00+00       Outside      1410   \n",
       "4  2015/06/03 17:35:00+00  2015/06/03 17:37:00+00       Outside      1420   \n",
       "\n",
       "   ucr_ext              offence  reportedyear reportedmonth  reportedday  \\\n",
       "0      100  Assault With Weapon          2015           May           31   \n",
       "1      100  Assault With Weapon          2015          June            3   \n",
       "2      100              Assault          2015          June            3   \n",
       "3      100   Aggravated Assault          2015          June            3   \n",
       "4      100  Assault With Weapon          2015          June            3   \n",
       "\n",
       "   reporteddayofyear reporteddayofweek  reportedhour  occurrenceyear  \\\n",
       "0                151            Sunday            15          2015.0   \n",
       "1                154         Wednesday            12          2015.0   \n",
       "2                154         Wednesday            14          2015.0   \n",
       "3                154         Wednesday            17          2015.0   \n",
       "4                154         Wednesday            17          2015.0   \n",
       "\n",
       "  occurrencemonth  occurrenceday  occurrencedayofyear occurrencedayofweek  \\\n",
       "0             May           31.0                151.0              Sunday   \n",
       "1            June            3.0                154.0           Wednesday   \n",
       "2             May           27.0                147.0           Wednesday   \n",
       "3            June            3.0                154.0           Wednesday   \n",
       "4            June            3.0                154.0           Wednesday   \n",
       "\n",
       "   occurrencehour      MCI Hood_ID               Neighbourhood       Long  \\\n",
       "0              15  Assault       1  West Humber-Clairville (1) -79.611774   \n",
       "1              12  Assault       1  West Humber-Clairville (1) -79.603876   \n",
       "2              16  Assault       1  West Humber-Clairville (1) -79.565476   \n",
       "3              17  Assault       1  West Humber-Clairville (1) -79.605691   \n",
       "4              17  Assault       1  West Humber-Clairville (1) -79.605691   \n",
       "\n",
       "         Lat  ObjectId  \n",
       "0  43.731689         1  \n",
       "1  43.743642         2  \n",
       "2  43.709154         3  \n",
       "3  43.728929         4  \n",
       "4  43.728929         5  "
      ]
     },
     "execution_count": 483,
     "metadata": {},
     "output_type": "execute_result"
    }
   ],
   "source": [
    "kept = ['offence', 'Neighbourhood', 'Long', 'Lat']\n",
    "data = pd.read_csv(\"data/Assault.csv\")\n",
    "data.head()"
   ]
  },
  {
   "cell_type": "code",
   "execution_count": 293,
   "id": "c969149c",
   "metadata": {},
   "outputs": [],
   "source": [
    "data = data[data['occurrenceyear']>=2016]\n",
    "# data = data[data.offence.str.contains('Assault')]\n",
    "data = data[~data.offence.str.contains(\"Weapon\")]"
   ]
  },
  {
   "cell_type": "code",
   "execution_count": 297,
   "id": "c4e3fa4d",
   "metadata": {},
   "outputs": [
    {
     "data": {
      "text/html": [
       "<div>\n",
       "<style scoped>\n",
       "    .dataframe tbody tr th:only-of-type {\n",
       "        vertical-align: middle;\n",
       "    }\n",
       "\n",
       "    .dataframe tbody tr th {\n",
       "        vertical-align: top;\n",
       "    }\n",
       "\n",
       "    .dataframe thead th {\n",
       "        text-align: right;\n",
       "    }\n",
       "</style>\n",
       "<table border=\"1\" class=\"dataframe\">\n",
       "  <thead>\n",
       "    <tr style=\"text-align: right;\">\n",
       "      <th></th>\n",
       "      <th>offence</th>\n",
       "      <th>Neighbourhood</th>\n",
       "      <th>Long</th>\n",
       "      <th>Lat</th>\n",
       "    </tr>\n",
       "  </thead>\n",
       "  <tbody>\n",
       "    <tr>\n",
       "      <th>300</th>\n",
       "      <td>Assault</td>\n",
       "      <td>West Humber-Clairville (1)</td>\n",
       "      <td>-79.595527</td>\n",
       "      <td>43.686758</td>\n",
       "    </tr>\n",
       "    <tr>\n",
       "      <th>301</th>\n",
       "      <td>Assault</td>\n",
       "      <td>West Humber-Clairville (1)</td>\n",
       "      <td>-79.571880</td>\n",
       "      <td>43.693791</td>\n",
       "    </tr>\n",
       "    <tr>\n",
       "      <th>302</th>\n",
       "      <td>Assault</td>\n",
       "      <td>West Humber-Clairville (1)</td>\n",
       "      <td>-79.592813</td>\n",
       "      <td>43.680815</td>\n",
       "    </tr>\n",
       "    <tr>\n",
       "      <th>303</th>\n",
       "      <td>Assault</td>\n",
       "      <td>West Humber-Clairville (1)</td>\n",
       "      <td>-79.615810</td>\n",
       "      <td>43.723890</td>\n",
       "    </tr>\n",
       "    <tr>\n",
       "      <th>304</th>\n",
       "      <td>Assault Bodily Harm</td>\n",
       "      <td>West Humber-Clairville (1)</td>\n",
       "      <td>-79.571472</td>\n",
       "      <td>43.721703</td>\n",
       "    </tr>\n",
       "    <tr>\n",
       "      <th>...</th>\n",
       "      <td>...</td>\n",
       "      <td>...</td>\n",
       "      <td>...</td>\n",
       "      <td>...</td>\n",
       "    </tr>\n",
       "    <tr>\n",
       "      <th>130353</th>\n",
       "      <td>Assault</td>\n",
       "      <td>NSA</td>\n",
       "      <td>-79.115658</td>\n",
       "      <td>43.819531</td>\n",
       "    </tr>\n",
       "    <tr>\n",
       "      <th>130354</th>\n",
       "      <td>Assault</td>\n",
       "      <td>NSA</td>\n",
       "      <td>-79.235481</td>\n",
       "      <td>43.877722</td>\n",
       "    </tr>\n",
       "    <tr>\n",
       "      <th>130355</th>\n",
       "      <td>Assault</td>\n",
       "      <td>NSA</td>\n",
       "      <td>-79.656869</td>\n",
       "      <td>43.586366</td>\n",
       "    </tr>\n",
       "    <tr>\n",
       "      <th>130356</th>\n",
       "      <td>Assault</td>\n",
       "      <td>NSA</td>\n",
       "      <td>-78.894412</td>\n",
       "      <td>44.170111</td>\n",
       "    </tr>\n",
       "    <tr>\n",
       "      <th>130357</th>\n",
       "      <td>Assault</td>\n",
       "      <td>NSA</td>\n",
       "      <td>-79.516263</td>\n",
       "      <td>43.866940</td>\n",
       "    </tr>\n",
       "  </tbody>\n",
       "</table>\n",
       "<p>79065 rows × 4 columns</p>\n",
       "</div>"
      ],
      "text/plain": [
       "                    offence               Neighbourhood       Long        Lat\n",
       "300                 Assault  West Humber-Clairville (1) -79.595527  43.686758\n",
       "301                 Assault  West Humber-Clairville (1) -79.571880  43.693791\n",
       "302                 Assault  West Humber-Clairville (1) -79.592813  43.680815\n",
       "303                 Assault  West Humber-Clairville (1) -79.615810  43.723890\n",
       "304     Assault Bodily Harm  West Humber-Clairville (1) -79.571472  43.721703\n",
       "...                     ...                         ...        ...        ...\n",
       "130353              Assault                         NSA -79.115658  43.819531\n",
       "130354              Assault                         NSA -79.235481  43.877722\n",
       "130355              Assault                         NSA -79.656869  43.586366\n",
       "130356              Assault                         NSA -78.894412  44.170111\n",
       "130357              Assault                         NSA -79.516263  43.866940\n",
       "\n",
       "[79065 rows x 4 columns]"
      ]
     },
     "execution_count": 297,
     "metadata": {},
     "output_type": "execute_result"
    }
   ],
   "source": [
    "finals = data.loc[:, kept]\n",
    "finals\n",
    "# finals.offence.unique()"
   ]
  },
  {
   "cell_type": "code",
   "execution_count": 300,
   "id": "ee0fd4f4",
   "metadata": {},
   "outputs": [],
   "source": [
    "fin = finals.loc[finals['offence'].isin(['Assault', 'Aggravated Assault','Assault Bodily Harm','Assault - Resist/ Prevent Seiz','Assault - Force/Thrt/Impede','Crim Negligence Bodily Harm','Unlawfully Causing Bodily Harm'])]\n",
    "# fin.offence.unique()\n",
    "# fin.info()"
   ]
  },
  {
   "cell_type": "code",
   "execution_count": 301,
   "id": "08beba68",
   "metadata": {},
   "outputs": [
    {
     "data": {
      "image/png": "[encoded data removed]",
      "text/plain": [
       "<Figure size 432x288 with 2 Axes>"
      ]
     },
     "metadata": {
      "needs_background": "light"
     },
     "output_type": "display_data"
    }
   ],
   "source": [
    "plt.scatter(fin['Lat'], fin['Long'])\n",
    "plt.colorbar()\n",
    "plt.show()"
   ]
  },
  {
   "cell_type": "code",
   "execution_count": 302,
   "id": "d872b041",
   "metadata": {},
   "outputs": [],
   "source": [
    "latlong = fin[['Lat', 'Long']]"
   ]
  },
  {
   "cell_type": "code",
   "execution_count": 303,
   "id": "b8c6a24c",
   "metadata": {},
   "outputs": [],
   "source": [
    "latlong.to_csv(\"data/assault_lat_long.csv\", index=False, header=False)"
   ]
  },
  {
   "cell_type": "markdown",
   "id": "59f0fc90",
   "metadata": {},
   "source": [
    "---"
   ]
  },
  {
   "cell_type": "code",
   "execution_count": null,
   "id": "2565778b",
   "metadata": {},
   "outputs": [],
   "source": []
  },
  {
   "cell_type": "code",
   "execution_count": null,
   "id": "a02abe62",
   "metadata": {},
   "outputs": [],
   "source": []
  },
  {
   "cell_type": "code",
   "execution_count": 304,
   "id": "f775512d",
   "metadata": {},
   "outputs": [
    {
     "ename": "ValueError",
     "evalue": "Cannot run multiple SparkContexts at once; existing SparkContext(app=pyspark-shell, master=local[*]) created by __init__ at /tmp/ipykernel_145452/414631668.py:2 ",
     "output_type": "error",
     "traceback": [
      "\u001b[0;31m---------------------------------------------------------------------------\u001b[0m",
      "\u001b[0;31mValueError\u001b[0m                                Traceback (most recent call last)",
      "\u001b[0;32m/tmp/ipykernel_145452/414631668.py\u001b[0m in \u001b[0;36m<module>\u001b[0;34m\u001b[0m\n\u001b[1;32m      1\u001b[0m \u001b[0;32mfrom\u001b[0m \u001b[0mpyspark\u001b[0m \u001b[0;32mimport\u001b[0m \u001b[0mSparkContext\u001b[0m\u001b[0;34m\u001b[0m\u001b[0;34m\u001b[0m\u001b[0m\n\u001b[0;32m----> 2\u001b[0;31m \u001b[0msc\u001b[0m \u001b[0;34m=\u001b[0m \u001b[0mSparkContext\u001b[0m\u001b[0;34m(\u001b[0m\u001b[0;34m)\u001b[0m\u001b[0;34m\u001b[0m\u001b[0;34m\u001b[0m\u001b[0m\n\u001b[0m",
      "\u001b[0;32m~/.pyenv/versions/3.8.8/lib/python3.8/site-packages/pyspark/context.py\u001b[0m in \u001b[0;36m__init__\u001b[0;34m(self, master, appName, sparkHome, pyFiles, environment, batchSize, serializer, conf, gateway, jsc, profiler_cls)\u001b[0m\n\u001b[1;32m    142\u001b[0m                 \" is not allowed as it is a security risk.\")\n\u001b[1;32m    143\u001b[0m \u001b[0;34m\u001b[0m\u001b[0m\n\u001b[0;32m--> 144\u001b[0;31m         \u001b[0mSparkContext\u001b[0m\u001b[0;34m.\u001b[0m\u001b[0m_ensure_initialized\u001b[0m\u001b[0;34m(\u001b[0m\u001b[0mself\u001b[0m\u001b[0;34m,\u001b[0m \u001b[0mgateway\u001b[0m\u001b[0;34m=\u001b[0m\u001b[0mgateway\u001b[0m\u001b[0;34m,\u001b[0m \u001b[0mconf\u001b[0m\u001b[0;34m=\u001b[0m\u001b[0mconf\u001b[0m\u001b[0;34m)\u001b[0m\u001b[0;34m\u001b[0m\u001b[0;34m\u001b[0m\u001b[0m\n\u001b[0m\u001b[1;32m    145\u001b[0m         \u001b[0;32mtry\u001b[0m\u001b[0;34m:\u001b[0m\u001b[0;34m\u001b[0m\u001b[0;34m\u001b[0m\u001b[0m\n\u001b[1;32m    146\u001b[0m             self._do_init(master, appName, sparkHome, pyFiles, environment, batchSize, serializer,\n",
      "\u001b[0;32m~/.pyenv/versions/3.8.8/lib/python3.8/site-packages/pyspark/context.py\u001b[0m in \u001b[0;36m_ensure_initialized\u001b[0;34m(cls, instance, gateway, conf)\u001b[0m\n\u001b[1;32m    340\u001b[0m \u001b[0;34m\u001b[0m\u001b[0m\n\u001b[1;32m    341\u001b[0m                     \u001b[0;31m# Raise error if there is already a running Spark context\u001b[0m\u001b[0;34m\u001b[0m\u001b[0;34m\u001b[0m\u001b[0;34m\u001b[0m\u001b[0m\n\u001b[0;32m--> 342\u001b[0;31m                     raise ValueError(\n\u001b[0m\u001b[1;32m    343\u001b[0m                         \u001b[0;34m\"Cannot run multiple SparkContexts at once; \"\u001b[0m\u001b[0;34m\u001b[0m\u001b[0;34m\u001b[0m\u001b[0m\n\u001b[1;32m    344\u001b[0m                         \u001b[0;34m\"existing SparkContext(app=%s, master=%s)\"\u001b[0m\u001b[0;34m\u001b[0m\u001b[0;34m\u001b[0m\u001b[0m\n",
      "\u001b[0;31mValueError\u001b[0m: Cannot run multiple SparkContexts at once; existing SparkContext(app=pyspark-shell, master=local[*]) created by __init__ at /tmp/ipykernel_145452/414631668.py:2 "
     ]
    }
   ],
   "source": [
    "from pyspark import SparkContext\n",
    "sc = SparkContext()"
   ]
  },
  {
   "cell_type": "code",
   "execution_count": 305,
   "id": "e387dfc3",
   "metadata": {},
   "outputs": [],
   "source": [
    "from pyspark.mllib.clustering import GaussianMixture"
   ]
  },
  {
   "cell_type": "code",
   "execution_count": 306,
   "id": "e0d5dcc7",
   "metadata": {},
   "outputs": [],
   "source": [
    "data = sc.textFile(\"./data/assault_lat_long.csv\")"
   ]
  },
  {
   "cell_type": "code",
   "execution_count": 375,
   "id": "4d6b6cc5",
   "metadata": {},
   "outputs": [],
   "source": [
    "parsed = data.map(lambda line: np.array([float(x) for x in line.strip().split(',')]))"
   ]
  },
  {
   "cell_type": "code",
   "execution_count": 376,
   "id": "71bca264",
   "metadata": {},
   "outputs": [],
   "source": [
    "gmm = GaussianMixture.train(parsed, l)"
   ]
  },
  {
   "cell_type": "code",
   "execution_count": 377,
   "id": "fa84bd38",
   "metadata": {},
   "outputs": [],
   "source": [
    "with open(f\"./metadata/gmm.txt\", 'w') as f:\n",
    "    for j in range(0,l):\n",
    "        f.write(str(gmm.weights[j])+\"\\n\")\n",
    "        f.write(str(gmm.gaussians[j].mu) + \"\\n\")\n",
    "        f.write(str(gmm.gaussians[j].sigma.toArray())+'\\n')"
   ]
  },
  {
   "cell_type": "code",
   "execution_count": 378,
   "id": "a12784d2",
   "metadata": {},
   "outputs": [
    {
     "name": "stdout",
     "output_type": "stream",
     "text": [
      "0.27906506942267223\r\n",
      "[43.656121947463966,-79.386989240487]\r\n",
      "[[0.00014319 0.00011612]\r\n",
      " [0.00011612 0.00055747]]\r\n",
      "0.2703079633836375\r\n",
      "[43.68248652410987,-79.47593410320772]\r\n",
      "[[0.00190582 0.00065165]\r\n",
      " [0.00065165 0.00312071]]\r\n",
      "0.19654576416017433\r\n",
      "[43.76825469338819,-79.42761895206436]\r\n",
      "[[0.0007647  0.00260243]\r\n",
      " [0.00260243 0.0140082 ]]\r\n",
      "0.25408120303351583\r\n",
      "[43.73144284046345,-79.2684335787133]\r\n",
      "[[0.00153575 0.00160843]\r\n",
      " [0.00160843 0.00299422]]\r\n"
     ]
    }
   ],
   "source": [
    "!cat ./metadata/gmm.txt"
   ]
  },
  {
   "cell_type": "code",
   "execution_count": 383,
   "id": "edb4b19a",
   "metadata": {},
   "outputs": [],
   "source": [
    "for j in range(0,l):\n",
    "    with open(f\"./models/gmm_{j}.txt\", 'w') as f:\n",
    "        f.write(f\"{str(gmm.weights[j])}\\n\")\n",
    "        f.write(f\"{str(gmm.gaussians[j].mu)}\\n\")\n",
    "        f.write(f\"{str(gmm.gaussians[j].sigma.toArray())}\\n\")"
   ]
  },
  {
   "cell_type": "code",
   "execution_count": 384,
   "id": "ebebc00d",
   "metadata": {},
   "outputs": [
    {
     "name": "stdout",
     "output_type": "stream",
     "text": [
      "0.25408120303351583\r\n",
      "[43.73144284046345,-79.2684335787133]\r\n",
      "[[0.00153575 0.00160843]\r\n",
      " [0.00160843 0.00299422]]\r\n"
     ]
    }
   ],
   "source": [
    "!cat ./models/gmm_3.txt"
   ]
  },
  {
   "cell_type": "code",
   "execution_count": 385,
   "id": "d8eb771a",
   "metadata": {},
   "outputs": [
    {
     "name": "stdout",
     "output_type": "stream",
     "text": [
      "gmm_0.txt  gmm_1.txt  gmm_2.txt  gmm_3.txt\r\n"
     ]
    }
   ],
   "source": [
    "! ls ./models"
   ]
  },
  {
   "cell_type": "code",
   "execution_count": null,
   "id": "f3d80152",
   "metadata": {},
   "outputs": [],
   "source": []
  },
  {
   "cell_type": "code",
   "execution_count": null,
   "id": "5af381ee",
   "metadata": {},
   "outputs": [],
   "source": []
  },
  {
   "cell_type": "code",
   "execution_count": null,
   "id": "daf8b113",
   "metadata": {},
   "outputs": [],
   "source": []
  },
  {
   "cell_type": "code",
   "execution_count": null,
   "id": "01a03dcf",
   "metadata": {},
   "outputs": [],
   "source": []
  }
 ],
 "metadata": {
  "kernelspec": {
   "display_name": "Python 3 (ipykernel)",
   "language": "python",
   "name": "python3"
  },
  "language_info": {
   "codemirror_mode": {
    "name": "ipython",
    "version": 3
   },
   "file_extension": ".py",
   "mimetype": "text/x-python",
   "name": "python",
   "nbconvert_exporter": "python",
   "pygments_lexer": "ipython3",
   "version": "3.8.8"
  }
 },
 "nbformat": 4,
 "nbformat_minor": 5
}
